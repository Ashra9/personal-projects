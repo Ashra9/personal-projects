{
 "cells": [
  {
   "cell_type": "code",
   "execution_count": null,
   "metadata": {},
   "outputs": [],
   "source": [
    "import pandas as pd\n",
    "import re"
   ]
  },
  {
   "cell_type": "code",
   "execution_count": null,
   "metadata": {},
   "outputs": [],
   "source": [
    "df_injuries = pd.read_csv(\"injuries_2010-2023early.csv\")\n",
    "df_season_dates = pd.read_csv(\"season schedule.csv\")"
   ]
  },
  {
   "cell_type": "code",
   "execution_count": null,
   "metadata": {},
   "outputs": [],
   "source": [
    "#Create a column with One month before season starts to indicate the start of the season for the players\n",
    "df_season_dates['Start_Date_Minus_One_Month'] = pd.to_datetime(df_season_dates['start_date']) - pd.DateOffset(months=1)\n"
   ]
  },
  {
   "cell_type": "code",
   "execution_count": null,
   "metadata": {},
   "outputs": [],
   "source": [
    "df_season_dates[\"end_date_join\"] = df_season_dates[\"Start_Date_Minus_One_Month\"].shift(-1) - pd.DateOffset(days=1)\n",
    "\n",
    "\n",
    "# replace the last row of end_date_join with the end_date since its empty due to the next season schedule not released yet \n",
    "df_season_dates.iloc[-1, df_season_dates.columns.get_loc('end_date_join')] = df_season_dates.iloc[-1, df_season_dates.columns.get_loc('end_date')]\n"
   ]
  },
  {
   "cell_type": "code",
   "execution_count": null,
   "metadata": {},
   "outputs": [],
   "source": [
    "#remove the acquired column and rows which are empty in Relinquished\n",
    "if \"Acquired\" in df_injuries.columns:\n",
    "    df_injuries = df_injuries.drop(columns=\"Acquired\")\n",
    "df_injuries2 = df_injuries[df_injuries.Relinquished.notnull()]"
   ]
  },
  {
   "cell_type": "code",
   "execution_count": null,
   "metadata": {},
   "outputs": [],
   "source": [
    "#Replace all team names which are Bobcats with Hornets as they are the same team\n",
    "df_injuries2[\"Team\"] = df_injuries2[\"Team\"].apply(lambda x: 'Hornets' if x == \"Bobcats\" else x)\n",
    "#fill the empty values in Team with no team available\n",
    "df_injuries2.update(df_injuries2['Team'].fillna(value='No team available', inplace=True))\n",
    "\n",
    "\n",
    "#Fill a new column in df_injuries with the corresponding season \n",
    "df_injuries2[\"season\"] = df_injuries2[\"Date\"].apply(lambda x: df_season_dates.loc[(df_season_dates['Start_Date_Minus_One_Month'] <= x) & (df_season_dates['end_date_join'] >= x), 'season'].values[0])\n",
    "\n",
    "display(df_injuries2)\n",
    "display(df_injuries2[\"season\"].unique())"
   ]
  },
  {
   "cell_type": "code",
   "execution_count": null,
   "metadata": {},
   "outputs": [],
   "source": [
    "#edit the names of players to remove the extra dot and select only one name if there is a '/' in the into\n",
    "df_injuries2[\"Relinquished\"] = df_injuries2[\"Relinquished\"].apply(lambda x: x.replace('•',\"\").split('/')[-1].strip() if '/' in x else x.replace('•',\"\").strip())\n",
    "#remove the brackets and the names in them\n",
    "df_injuries2[\"Relinquished\"] = df_injuries2[\"Relinquished\"].apply(lambda x: re.sub(r'\\(.*\\)', \"\", x).strip())\n",
    "\n",
    "display(df_injuries2)"
   ]
  },
  {
   "cell_type": "code",
   "execution_count": null,
   "metadata": {},
   "outputs": [],
   "source": [
    "df_injuries2.to_csv(\"injuries_processed.csv\", index=False)"
   ]
  },
  {
   "cell_type": "code",
   "execution_count": null,
   "metadata": {},
   "outputs": [],
   "source": [
    "#after Tableau Prep"
   ]
  },
  {
   "cell_type": "code",
   "execution_count": null,
   "metadata": {},
   "outputs": [],
   "source": [
    "df_players = pd.read_csv(\"players_data.csv\")"
   ]
  },
  {
   "cell_type": "code",
   "execution_count": null,
   "metadata": {},
   "outputs": [],
   "source": [
    "# Identify duplicate rows based on specific columns\n",
    "duplicate_rows = df_players.duplicated(subset=['player_name', 'season'], keep=False)\n",
    "\n",
    "# Remove duplicate rows from the dataframe\n",
    "df_players = df_players[~duplicate_rows]\n"
   ]
  },
  {
   "cell_type": "code",
   "execution_count": null,
   "metadata": {},
   "outputs": [],
   "source": [
    "df_players.to_csv(\"players_data_2.csv\", index=False)"
   ]
  },
  {
   "cell_type": "code",
   "execution_count": null,
   "metadata": {},
   "outputs": [],
   "source": [
    "#Further proccessing the data output from Tableau Prep\n",
    "df_tea_prep = pd.read_csv(\"TPrepped_data.csv\")\n",
    "display(df_tea_prep)"
   ]
  },
  {
   "cell_type": "code",
   "execution_count": null,
   "metadata": {},
   "outputs": [],
   "source": [
    "df_tea_prep['player_name'] = df_tea_prep['Relinquished']\n",
    "df_tea_prep['season-1'] = df_tea_prep['season']\n",
    "display(df_tea_prep)"
   ]
  },
  {
   "cell_type": "code",
   "execution_count": null,
   "metadata": {},
   "outputs": [],
   "source": [
    "df_tea_prep2 = df_tea_prep.copy()\n",
    "df_tea_prep2.sort_values(by=['player_name', 'age', 'player_height', 'player_weight'], inplace=True)\n",
    "# Group by player_name and forward fill NaN values in each group separately\n",
    "df_tea_prep2[['age', 'player_height', 'player_weight']] = df_tea_prep2.groupby('player_name')[['age', 'player_height', 'player_weight']].fillna(method='ffill')\n",
    "df_tea_prep2[['age', 'player_height', 'player_weight']] = df_tea_prep2.groupby('player_name')[['age', 'player_height', 'player_weight']].fillna(method='bfill')\n",
    "display(df_tea_prep2)"
   ]
  },
  {
   "cell_type": "code",
   "execution_count": null,
   "metadata": {},
   "outputs": [],
   "source": [
    "df_tea_prep2.sort_values(by=['Date'], inplace=True)\n",
    "display(df_tea_prep2)"
   ]
  },
  {
   "cell_type": "code",
   "execution_count": null,
   "metadata": {},
   "outputs": [],
   "source": [
    "df_tea_prep2.to_csv(\"Combined.csv\", index=False)"
   ]
  }
 ],
 "metadata": {
  "kernelspec": {
   "display_name": "Python 3",
   "language": "python",
   "name": "python3"
  },
  "language_info": {
   "codemirror_mode": {
    "name": "ipython",
    "version": 3
   },
   "file_extension": ".py",
   "mimetype": "text/x-python",
   "name": "python",
   "nbconvert_exporter": "python",
   "pygments_lexer": "ipython3",
   "version": "3.7.9"
  },
  "orig_nbformat": 4
 },
 "nbformat": 4,
 "nbformat_minor": 2
}
